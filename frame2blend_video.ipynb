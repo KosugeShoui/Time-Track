{
 "cells": [
  {
   "cell_type": "code",
   "execution_count": 1,
   "metadata": {},
   "outputs": [],
   "source": [
    "import cv2\n",
    "from IPython.display import Video, display\n",
    "import os\n",
    "\n",
    "def blend_videos(video_path1, video_path2, output_path, alpha,fps):\n",
    "\n",
    "    # Capture both videos\n",
    "    cap1 = cv2.VideoCapture(video_path1)\n",
    "    cap2 = cv2.VideoCapture(video_path2)\n",
    "\n",
    "    # Get the width and height of the frames\n",
    "    width = int(cap1.get(cv2.CAP_PROP_FRAME_WIDTH))\n",
    "    height = int(cap1.get(cv2.CAP_PROP_FRAME_HEIGHT))\n",
    "\n",
    "    # Define the codec and create a VideoWriter object\n",
    "    fourcc = cv2.VideoWriter_fourcc(*'mp4v')\n",
    "    out = cv2.VideoWriter(output_path, fourcc, fps, (width, height))\n",
    "\n",
    "    while True:\n",
    "        ret1, frame1 = cap1.read()\n",
    "        ret2, frame2 = cap2.read()\n",
    "\n",
    "        # Break the loop if no more frames are available\n",
    "        if not ret1 or not ret2:\n",
    "            break\n",
    "\n",
    "        # Blend the frames\n",
    "        blended_frame = cv2.addWeighted(frame1, alpha, frame2, 1 - alpha, 0)\n",
    "\n",
    "        # Write the blended frame to the output video\n",
    "        out.write(blended_frame)\n",
    "\n",
    "    # Release everything if job is finished\n",
    "    cap1.release()\n",
    "    cap2.release()\n",
    "    out.release()\n"
   ]
  },
  {
   "cell_type": "code",
   "execution_count": 3,
   "metadata": {},
   "outputs": [],
   "source": [
    "# Example usage\n",
    "save_dir = 'w_output_video_13'\n",
    "#video_path1 = os.path.join(save_dir,'visem_results.mp4')\n",
    "video_path1 = os.path.join(save_dir,'output_13.mp4')\n",
    "#src_time / src_notime / time_weight\n",
    "video_list = [\"src_time\" ,\"src_notime\",\"time_weight\"]\n",
    "video_path2 = os.path.join(save_dir,'time_weight.mp4')\n",
    "output_path = os.path.join(save_dir,'blend_video_13.mp4')\n",
    "blend_videos(video_path1, video_path2, output_path, alpha=0.7,fps = 35)"
   ]
  }
 ],
 "metadata": {
  "kernelspec": {
   "display_name": "Python 3",
   "language": "python",
   "name": "python3"
  },
  "language_info": {
   "codemirror_mode": {
    "name": "ipython",
    "version": 3
   },
   "file_extension": ".py",
   "mimetype": "text/x-python",
   "name": "python",
   "nbconvert_exporter": "python",
   "pygments_lexer": "ipython3",
   "version": "3.8.10"
  }
 },
 "nbformat": 4,
 "nbformat_minor": 2
}

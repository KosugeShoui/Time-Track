{
 "cells": [
  {
   "cell_type": "markdown",
   "metadata": {},
   "source": [
    "## Attention Weight & Feature Map Visualization"
   ]
  },
  {
   "cell_type": "code",
   "execution_count": 4,
   "metadata": {},
   "outputs": [],
   "source": [
    "import cv2\n",
    "import os\n",
    "from IPython.display import Video, display\n",
    "from natsort import natsorted\n",
    "import matplotlib.pyplot as plt\n",
    "\n",
    "def create_video_from_frames(frame_folder, output_path, vis_name , fps=5):\n",
    "\n",
    "    # Get a list of frame filenames sorted by name that include vis_name\n",
    "    frames = natsorted([os.path.join(frame_folder, frame) for frame in os.listdir(frame_folder) if frame.endswith(('.png', '.jpg', '.jpeg')) and vis_name in frame])\n",
    "    print(frames)\n",
    "    if not frames:\n",
    "        raise ValueError(\"No frames found with the specified vis_name in the filenames.\")\n",
    "\n",
    "    # Read the first frame to get the dimensions\n",
    "    frame = cv2.imread(frames[0],)\n",
    "    height, width, layers = frame.shape\n",
    "    #frame = 1 - frame\n",
    "    frame = cv2.cvtColor(frame, cv2.COLOR_BGR2RGB)\n",
    "    #print(type(frame))\n",
    "    #plt.imshow(frame)\n",
    "    #plt.show()\n",
    "\n",
    "    # Define the codec and create a VideoWriter object\n",
    "    fourcc = cv2.VideoWriter_fourcc(*'mp4v')\n",
    "    video = cv2.VideoWriter(output_path, fourcc, fps, (width, height))\n",
    "\n",
    "    for frame in frames:\n",
    "        img = cv2.imread(frame)\n",
    "        video.write(img)\n",
    "\n",
    "    # Release the video writer object\n",
    "    video.release()\n",
    "\n"
   ]
  },
  {
   "cell_type": "code",
   "execution_count": 7,
   "metadata": {},
   "outputs": [
    {
     "name": "stdout",
     "output_type": "stream",
     "text": [
      "['w_eval_attention_add_visem_jet/time_weight_0.png', 'w_eval_attention_add_visem_jet/time_weight_1.png', 'w_eval_attention_add_visem_jet/time_weight_2.png', 'w_eval_attention_add_visem_jet/time_weight_3.png', 'w_eval_attention_add_visem_jet/time_weight_4.png', 'w_eval_attention_add_visem_jet/time_weight_5.png', 'w_eval_attention_add_visem_jet/time_weight_6.png', 'w_eval_attention_add_visem_jet/time_weight_7.png', 'w_eval_attention_add_visem_jet/time_weight_8.png', 'w_eval_attention_add_visem_jet/time_weight_9.png', 'w_eval_attention_add_visem_jet/time_weight_10.png', 'w_eval_attention_add_visem_jet/time_weight_11.png', 'w_eval_attention_add_visem_jet/time_weight_12.png', 'w_eval_attention_add_visem_jet/time_weight_13.png', 'w_eval_attention_add_visem_jet/time_weight_14.png', 'w_eval_attention_add_visem_jet/time_weight_15.png', 'w_eval_attention_add_visem_jet/time_weight_16.png', 'w_eval_attention_add_visem_jet/time_weight_17.png', 'w_eval_attention_add_visem_jet/time_weight_18.png', 'w_eval_attention_add_visem_jet/time_weight_19.png', 'w_eval_attention_add_visem_jet/time_weight_20.png', 'w_eval_attention_add_visem_jet/time_weight_21.png', 'w_eval_attention_add_visem_jet/time_weight_22.png', 'w_eval_attention_add_visem_jet/time_weight_23.png', 'w_eval_attention_add_visem_jet/time_weight_24.png', 'w_eval_attention_add_visem_jet/time_weight_25.png', 'w_eval_attention_add_visem_jet/time_weight_26.png', 'w_eval_attention_add_visem_jet/time_weight_27.png', 'w_eval_attention_add_visem_jet/time_weight_28.png', 'w_eval_attention_add_visem_jet/time_weight_29.png', 'w_eval_attention_add_visem_jet/time_weight_30.png', 'w_eval_attention_add_visem_jet/time_weight_31.png', 'w_eval_attention_add_visem_jet/time_weight_32.png', 'w_eval_attention_add_visem_jet/time_weight_33.png', 'w_eval_attention_add_visem_jet/time_weight_34.png', 'w_eval_attention_add_visem_jet/time_weight_35.png', 'w_eval_attention_add_visem_jet/time_weight_36.png', 'w_eval_attention_add_visem_jet/time_weight_37.png', 'w_eval_attention_add_visem_jet/time_weight_38.png', 'w_eval_attention_add_visem_jet/time_weight_39.png', 'w_eval_attention_add_visem_jet/time_weight_40.png', 'w_eval_attention_add_visem_jet/time_weight_41.png', 'w_eval_attention_add_visem_jet/time_weight_42.png', 'w_eval_attention_add_visem_jet/time_weight_43.png', 'w_eval_attention_add_visem_jet/time_weight_44.png', 'w_eval_attention_add_visem_jet/time_weight_45.png', 'w_eval_attention_add_visem_jet/time_weight_46.png', 'w_eval_attention_add_visem_jet/time_weight_47.png', 'w_eval_attention_add_visem_jet/time_weight_48.png', 'w_eval_attention_add_visem_jet/time_weight_49.png', 'w_eval_attention_add_visem_jet/time_weight_50.png', 'w_eval_attention_add_visem_jet/time_weight_51.png', 'w_eval_attention_add_visem_jet/time_weight_52.png', 'w_eval_attention_add_visem_jet/time_weight_53.png', 'w_eval_attention_add_visem_jet/time_weight_54.png', 'w_eval_attention_add_visem_jet/time_weight_55.png', 'w_eval_attention_add_visem_jet/time_weight_56.png', 'w_eval_attention_add_visem_jet/time_weight_57.png', 'w_eval_attention_add_visem_jet/time_weight_58.png', 'w_eval_attention_add_visem_jet/time_weight_59.png', 'w_eval_attention_add_visem_jet/time_weight_60.png', 'w_eval_attention_add_visem_jet/time_weight_61.png', 'w_eval_attention_add_visem_jet/time_weight_62.png', 'w_eval_attention_add_visem_jet/time_weight_63.png', 'w_eval_attention_add_visem_jet/time_weight_64.png', 'w_eval_attention_add_visem_jet/time_weight_65.png', 'w_eval_attention_add_visem_jet/time_weight_66.png', 'w_eval_attention_add_visem_jet/time_weight_67.png', 'w_eval_attention_add_visem_jet/time_weight_68.png', 'w_eval_attention_add_visem_jet/time_weight_69.png', 'w_eval_attention_add_visem_jet/time_weight_70.png', 'w_eval_attention_add_visem_jet/time_weight_71.png', 'w_eval_attention_add_visem_jet/time_weight_72.png', 'w_eval_attention_add_visem_jet/time_weight_73.png', 'w_eval_attention_add_visem_jet/time_weight_74.png', 'w_eval_attention_add_visem_jet/time_weight_75.png', 'w_eval_attention_add_visem_jet/time_weight_76.png', 'w_eval_attention_add_visem_jet/time_weight_77.png', 'w_eval_attention_add_visem_jet/time_weight_78.png', 'w_eval_attention_add_visem_jet/time_weight_79.png', 'w_eval_attention_add_visem_jet/time_weight_80.png', 'w_eval_attention_add_visem_jet/time_weight_81.png', 'w_eval_attention_add_visem_jet/time_weight_82.png', 'w_eval_attention_add_visem_jet/time_weight_83.png', 'w_eval_attention_add_visem_jet/time_weight_84.png', 'w_eval_attention_add_visem_jet/time_weight_85.png', 'w_eval_attention_add_visem_jet/time_weight_86.png', 'w_eval_attention_add_visem_jet/time_weight_87.png', 'w_eval_attention_add_visem_jet/time_weight_88.png', 'w_eval_attention_add_visem_jet/time_weight_89.png', 'w_eval_attention_add_visem_jet/time_weight_90.png', 'w_eval_attention_add_visem_jet/time_weight_91.png', 'w_eval_attention_add_visem_jet/time_weight_92.png', 'w_eval_attention_add_visem_jet/time_weight_93.png', 'w_eval_attention_add_visem_jet/time_weight_94.png', 'w_eval_attention_add_visem_jet/time_weight_95.png', 'w_eval_attention_add_visem_jet/time_weight_96.png', 'w_eval_attention_add_visem_jet/time_weight_97.png', 'w_eval_attention_add_visem_jet/time_weight_98.png', 'w_eval_attention_add_visem_jet/time_weight_99.png', 'w_eval_attention_add_visem_jet/time_weight_100.png', 'w_eval_attention_add_visem_jet/time_weight_101.png', 'w_eval_attention_add_visem_jet/time_weight_102.png', 'w_eval_attention_add_visem_jet/time_weight_103.png', 'w_eval_attention_add_visem_jet/time_weight_104.png']\n"
     ]
    }
   ],
   "source": [
    "# Example usage\n",
    "frame_folder = 'w_eval_attention_add_visem_jet'\n",
    "save_dir = 'w_output_video_jet'\n",
    "name_list = ['src_time','src_notime','time_weight']\n",
    "vis_name = name_list[2]\n",
    "\n",
    "\n",
    "\n",
    "os.makedirs(save_dir,exist_ok=True)\n",
    "output_path = os.path.join(save_dir,'time_weight.mp4')\n",
    "create_video_from_frames(frame_folder, output_path, vis_name, fps=5)"
   ]
  }
 ],
 "metadata": {
  "kernelspec": {
   "display_name": "Python 3",
   "language": "python",
   "name": "python3"
  },
  "language_info": {
   "codemirror_mode": {
    "name": "ipython",
    "version": 3
   },
   "file_extension": ".py",
   "mimetype": "text/x-python",
   "name": "python",
   "nbconvert_exporter": "python",
   "pygments_lexer": "ipython3",
   "version": "3.8.10"
  }
 },
 "nbformat": 4,
 "nbformat_minor": 2
}

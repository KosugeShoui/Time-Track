{
 "cells": [
  {
   "cell_type": "markdown",
   "metadata": {},
   "source": [
    "## visem video output"
   ]
  },
  {
   "cell_type": "code",
   "execution_count": 2,
   "metadata": {},
   "outputs": [],
   "source": [
    "import cv2\n",
    "import os\n",
    "from natsort import natsorted\n",
    "\n",
    "def create_video_from_frames(frame_folder, output_path, fps=5):\n",
    "    # Get a list of frame filenames sorted by name\n",
    "    frames = natsorted([os.path.join(frame_folder, frame) for frame in os.listdir(frame_folder) if frame.endswith(('.png', '.jpg', '.jpeg'))])\n",
    "\n",
    "    # Read the first frame to get the dimensions\n",
    "    frame = cv2.imread(frames[0])\n",
    "    height, width, layers = frame.shape\n",
    "\n",
    "    # Define the codec and create a VideoWriter object\n",
    "    fourcc = cv2.VideoWriter_fourcc(*'mp4v')\n",
    "    video = cv2.VideoWriter(output_path, fourcc, fps, (width, height))\n",
    "\n",
    "    for i,frame in enumerate(frames):\n",
    "        img = cv2.imread(frame)\n",
    "        video.write(img)\n",
    "        \n",
    "        if i == 150:\n",
    "            break\n",
    "\n",
    "    # Release the video writer object\n",
    "    video.release()"
   ]
  },
  {
   "cell_type": "code",
   "execution_count": 4,
   "metadata": {},
   "outputs": [],
   "source": [
    "# Example usage\n",
    "#exp_path = 'exps_visem/exp_0522_timeAttn_test_product'\n",
    "exp_path = './data/Dataset/mot/visem/train/'\n",
    "#frame_folder = os.path.join(exp_path,'eval/results/12')\n",
    "output_path = 'w_output_video/visem_input.mp4'\n",
    "frame_folder = os.path.join(exp_path,'12/img1')\n",
    "create_video_from_frames(frame_folder, output_path)"
   ]
  }
 ],
 "metadata": {
  "kernelspec": {
   "display_name": "Python 3",
   "language": "python",
   "name": "python3"
  },
  "language_info": {
   "codemirror_mode": {
    "name": "ipython",
    "version": 3
   },
   "file_extension": ".py",
   "mimetype": "text/x-python",
   "name": "python",
   "nbconvert_exporter": "python",
   "pygments_lexer": "ipython3",
   "version": "3.8.10"
  }
 },
 "nbformat": 4,
 "nbformat_minor": 2
}
